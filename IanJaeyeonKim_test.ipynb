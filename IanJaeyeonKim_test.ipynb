{
 "cells": [
  {
   "cell_type": "code",
   "execution_count": 1,
   "metadata": {},
   "outputs": [],
   "source": [
    "from bs4 import BeautifulSoup\n",
    "import requests\n",
    "import urllib.request\n",
    "from urllib.request import Request, urlopen\n",
    "import urllib\n",
    "import pandas as pd\n",
    "from pandas import DataFrame as df"
   ]
  },
  {
   "cell_type": "code",
   "execution_count": 2,
   "metadata": {},
   "outputs": [],
   "source": [
    "url = 'https://jayeuijunglee.github.io/website/html.htm'\n",
    "html = urllib.request.urlopen(url).read()\n",
    "soup = BeautifulSoup(html, 'html.parser')"
   ]
  },
  {
   "cell_type": "code",
   "execution_count": 3,
   "metadata": {},
   "outputs": [
    {
     "data": {
      "text/plain": [
       "<!DOCTYPE html>\n",
       "\n",
       "<html>\n",
       "<body>\n",
       "<strong> ○천안시 공모사업 관리에 관한 조례안</strong>\n",
       "<br/>\n",
       "<strong> ○천안시 노동자 권리보호 및 복리증진에 관한 조례안</strong>\n",
       "<br/>\n",
       "<strong> ○천안시 비정규직 권리보호 및 지원에 관한 조례안</strong> <a href=\"https://www.google.com\"> 맨처음으로</a>\n",
       "<br/>\n",
       "<strong>○의장 인치견</strong> 의사일정 제1항 천안시 공모사업 관리에 관한 조례안, 의사일정 제2항 천안시 노동자 권리보호 및 복리증진에 관한 조례안, 의사일정 제3항 천안시 대형유통기업 지역기여 권고 및 소상공인 보호 조례 일부개정조례안, 의사일정 제4항 천안시 비정규직 권리보호 및 지원에 관한 조례안. 이상 4건의 안건을 일괄 상정합니다. \n",
       " <br/>\n",
       "본 안건을 심사해 주신 경제산업위원회 김철환 부위원장께서는 심사결과를 보고하여 주시기 바랍니다. \n",
       "<br/>\n",
       "<hr/>\n",
       "<strong> ○유니세프 아동친화도시 추진 지방정부협의회 운영 규약 개정 동의안</strong> (시장제출)\n",
       "<br/>\n",
       "<strong>○의장 인치견</strong> 의사일정 제5항 유니세프 아동친화도시 추진 지방정부협의회 운영 규약 개정 동의안, 의사일정 제6항 대한민국 축구종합센터 도시개발사업 구역지정 및 개발계획 수립을 위한 의견청취. 이상 2건의 안건을 일괄 상정합니다. \n",
       "<br/>\n",
       "<hr/>\n",
       "<strong> ○천안시 대형유통기업 지역기여 권고 및 소상공인 보호 조례 일부개정조례안</strong>\n",
       "<br/>\n",
       "<strong> ○대한민국 축구종합센터 도시개발사업 구역지정 및 개발계획 수립을 위한 의견청취 </strong>\n",
       "<br/>\n",
       "본 안건을 심사하여 주신 복지문화위원회 김월영 부위원장께서는 심사결과를 보고하여 주시기 바랍니다. \n",
       "<br/>\n",
       "<strong>○복지문화부위원장 김월영</strong> 복지문화위원회 김월영 부위원장입니다. \n",
       " <br/>\n",
       "본 위원회로 회부된 2개의 안건에 대한 심사결과를 보고드리겠습니다. \n",
       "</body>\n",
       "</html>"
      ]
     },
     "execution_count": 3,
     "metadata": {},
     "output_type": "execute_result"
    }
   ],
   "source": [
    "soup"
   ]
  },
  {
   "cell_type": "markdown",
   "metadata": {},
   "source": [
    "# * Method 1: 안건 문자 배열 특징 활용\n",
    "<pre>\n",
    "문자 배열 특징 활용, agenda의 경우는 첫 칸을 띄워두고 있음\n",
    "strong 태그 다 불러온 뒤 첫 칸을 띄워두고 있는 것을 안건으로 가져오고, \n",
    "첫 칸이 안 띄워져 있는 곳을 경계로 segement_number 구분\n",
    "\n",
    "장점: 코드 굉장히 간단\n",
    "단점: 만약에 안건의 첫 칸이 빈칸으로 되어 있지 않다면?? --> hr 태그의 위치 정보를 활용하는 코드가 필요\n",
    "                                            --> hr 태그의 위치 정보 확인하는 코드가 조금 더 general 한 코드가 될 듯\n",
    "</pre>"
   ]
  },
  {
   "cell_type": "code",
   "execution_count": 4,
   "metadata": {},
   "outputs": [],
   "source": [
    "contents = soup.html.find_all(\"strong\", text =True)"
   ]
  },
  {
   "cell_type": "code",
   "execution_count": 5,
   "metadata": {},
   "outputs": [],
   "source": [
    "information = []\n",
    "for i in range(len(list(contents))):\n",
    "    information.append(contents[i].get_text())"
   ]
  },
  {
   "cell_type": "code",
   "execution_count": 6,
   "metadata": {},
   "outputs": [],
   "source": [
    "list_numbering = []\n",
    "list_contents = []\n",
    "number = 1\n",
    "\n",
    "for target in information:\n",
    "    if target[0] == \" \":\n",
    "        list_numbering.append(number)\n",
    "        list_contents.append(target)\n",
    "    else:\n",
    "        number += 1"
   ]
  },
  {
   "cell_type": "code",
   "execution_count": 7,
   "metadata": {},
   "outputs": [],
   "source": [
    "test = pd.DataFrame({'segment_number':list_numbering, 'agenda_title': list_contents})"
   ]
  },
  {
   "cell_type": "code",
   "execution_count": 8,
   "metadata": {},
   "outputs": [
    {
     "data": {
      "text/html": [
       "<div>\n",
       "<style scoped>\n",
       "    .dataframe tbody tr th:only-of-type {\n",
       "        vertical-align: middle;\n",
       "    }\n",
       "\n",
       "    .dataframe tbody tr th {\n",
       "        vertical-align: top;\n",
       "    }\n",
       "\n",
       "    .dataframe thead th {\n",
       "        text-align: right;\n",
       "    }\n",
       "</style>\n",
       "<table border=\"1\" class=\"dataframe\">\n",
       "  <thead>\n",
       "    <tr style=\"text-align: right;\">\n",
       "      <th></th>\n",
       "      <th>segment_number</th>\n",
       "      <th>agenda_title</th>\n",
       "    </tr>\n",
       "  </thead>\n",
       "  <tbody>\n",
       "    <tr>\n",
       "      <th>0</th>\n",
       "      <td>1</td>\n",
       "      <td>○천안시 공모사업 관리에 관한 조례안</td>\n",
       "    </tr>\n",
       "    <tr>\n",
       "      <th>1</th>\n",
       "      <td>1</td>\n",
       "      <td>○천안시 노동자 권리보호 및 복리증진에 관한 조례안</td>\n",
       "    </tr>\n",
       "    <tr>\n",
       "      <th>2</th>\n",
       "      <td>1</td>\n",
       "      <td>○천안시 비정규직 권리보호 및 지원에 관한 조례안</td>\n",
       "    </tr>\n",
       "    <tr>\n",
       "      <th>3</th>\n",
       "      <td>2</td>\n",
       "      <td>○유니세프 아동친화도시 추진 지방정부협의회 운영 규약 개정 동의안</td>\n",
       "    </tr>\n",
       "    <tr>\n",
       "      <th>4</th>\n",
       "      <td>3</td>\n",
       "      <td>○천안시 대형유통기업 지역기여 권고 및 소상공인 보호 조례 일부개정조례안</td>\n",
       "    </tr>\n",
       "    <tr>\n",
       "      <th>5</th>\n",
       "      <td>3</td>\n",
       "      <td>○대한민국 축구종합센터 도시개발사업 구역지정 및 개발계획 수립을 위한 의견청취</td>\n",
       "    </tr>\n",
       "  </tbody>\n",
       "</table>\n",
       "</div>"
      ],
      "text/plain": [
       "   segment_number                                   agenda_title\n",
       "0               1                           ○천안시 공모사업 관리에 관한 조례안\n",
       "1               1                   ○천안시 노동자 권리보호 및 복리증진에 관한 조례안\n",
       "2               1                    ○천안시 비정규직 권리보호 및 지원에 관한 조례안\n",
       "3               2           ○유니세프 아동친화도시 추진 지방정부협의회 운영 규약 개정 동의안\n",
       "4               3       ○천안시 대형유통기업 지역기여 권고 및 소상공인 보호 조례 일부개정조례안\n",
       "5               3   ○대한민국 축구종합센터 도시개발사업 구역지정 및 개발계획 수립을 위한 의견청취 "
      ]
     },
     "execution_count": 8,
     "metadata": {},
     "output_type": "execute_result"
    }
   ],
   "source": [
    "test"
   ]
  },
  {
   "cell_type": "code",
   "execution_count": 9,
   "metadata": {},
   "outputs": [],
   "source": [
    "test.to_csv(\"test1.csv\")"
   ]
  },
  {
   "cell_type": "markdown",
   "metadata": {},
   "source": [
    "___"
   ]
  },
  {
   "cell_type": "markdown",
   "metadata": {},
   "source": [
    "# * Method 2: hr 태그 위치 정보 확인해서 안건 구분"
   ]
  },
  {
   "cell_type": "code",
   "execution_count": 10,
   "metadata": {},
   "outputs": [
    {
     "data": {
      "text/plain": [
       "[<strong> ○천안시 공모사업 관리에 관한 조례안</strong>,\n",
       " <strong> ○천안시 노동자 권리보호 및 복리증진에 관한 조례안</strong>,\n",
       " <strong> ○천안시 비정규직 권리보호 및 지원에 관한 조례안</strong>,\n",
       " <strong>○의장 인치견</strong>,\n",
       " <strong> ○유니세프 아동친화도시 추진 지방정부협의회 운영 규약 개정 동의안</strong>,\n",
       " <strong>○의장 인치견</strong>,\n",
       " <strong> ○천안시 대형유통기업 지역기여 권고 및 소상공인 보호 조례 일부개정조례안</strong>,\n",
       " <strong> ○대한민국 축구종합센터 도시개발사업 구역지정 및 개발계획 수립을 위한 의견청취 </strong>,\n",
       " <strong>○복지문화부위원장 김월영</strong>]"
      ]
     },
     "execution_count": 10,
     "metadata": {},
     "output_type": "execute_result"
    }
   ],
   "source": [
    "contents = soup.html.find_all(\"strong\", text =True)\n",
    "contents"
   ]
  },
  {
   "cell_type": "code",
   "execution_count": 11,
   "metadata": {},
   "outputs": [
    {
     "data": {
      "text/plain": [
       "[' ○천안시 공모사업 관리에 관한 조례안',\n",
       " ' ○천안시 노동자 권리보호 및 복리증진에 관한 조례안',\n",
       " ' ○천안시 비정규직 권리보호 및 지원에 관한 조례안',\n",
       " ' ○유니세프 아동친화도시 추진 지방정부협의회 운영 규약 개정 동의안',\n",
       " ' ○천안시 대형유통기업 지역기여 권고 및 소상공인 보호 조례 일부개정조례안',\n",
       " ' ○대한민국 축구종합센터 도시개발사업 구역지정 및 개발계획 수립을 위한 의견청취 ']"
      ]
     },
     "execution_count": 11,
     "metadata": {},
     "output_type": "execute_result"
    }
   ],
   "source": [
    "information = []                             # 첫번째에 블랭크가 있는 것만 안건으로 취급\n",
    "for i in range(len(list(contents))):\n",
    "    if contents[i].get_text()[0] == \" \":\n",
    "        information.append(contents[i].get_text())\n",
    "        \n",
    "information"
   ]
  },
  {
   "cell_type": "code",
   "execution_count": 12,
   "metadata": {
    "scrolled": true
   },
   "outputs": [
    {
     "data": {
      "text/plain": [
       "[' ○유니세프 아동친화도시 추진 지방정부협의회 운영 규약 개정 동의안',\n",
       " ' ○천안시 대형유통기업 지역기여 권고 및 소상공인 보호 조례 일부개정조례안']"
      ]
     },
     "execution_count": 12,
     "metadata": {},
     "output_type": "execute_result"
    }
   ],
   "source": [
    "hr_soup = soup.find_all('hr')\n",
    "agenda = [hr_soup[i].find_next().get_text() for i in range(len(list(hr_soup)))]  #두번째 세그먼트 부터 첫번째 안건 정보가 agenda에 담김\n",
    "agenda"
   ]
  },
  {
   "cell_type": "code",
   "execution_count": 13,
   "metadata": {},
   "outputs": [
    {
     "data": {
      "text/plain": [
       "[1, 1, 1, 2, 3, 3]"
      ]
     },
     "execution_count": 13,
     "metadata": {},
     "output_type": "execute_result"
    }
   ],
   "source": [
    "list_numbering = []\n",
    "number = 1\n",
    "for target in information:\n",
    "    try:\n",
    "        if target == agenda[number-1]:\n",
    "            number += 1\n",
    "            list_numbering.append(number)\n",
    "        else:\n",
    "            list_numbering.append(number)\n",
    "    \n",
    "    except:\n",
    "        list_numbering.append(number)\n",
    "\n",
    "list_numbering\n"
   ]
  },
  {
   "cell_type": "code",
   "execution_count": 14,
   "metadata": {},
   "outputs": [],
   "source": [
    "test2 = pd.DataFrame({'segment_number':list_numbering, 'agenda_title': information})"
   ]
  },
  {
   "cell_type": "code",
   "execution_count": 15,
   "metadata": {},
   "outputs": [
    {
     "data": {
      "text/html": [
       "<div>\n",
       "<style scoped>\n",
       "    .dataframe tbody tr th:only-of-type {\n",
       "        vertical-align: middle;\n",
       "    }\n",
       "\n",
       "    .dataframe tbody tr th {\n",
       "        vertical-align: top;\n",
       "    }\n",
       "\n",
       "    .dataframe thead th {\n",
       "        text-align: right;\n",
       "    }\n",
       "</style>\n",
       "<table border=\"1\" class=\"dataframe\">\n",
       "  <thead>\n",
       "    <tr style=\"text-align: right;\">\n",
       "      <th></th>\n",
       "      <th>segment_number</th>\n",
       "      <th>agenda_title</th>\n",
       "    </tr>\n",
       "  </thead>\n",
       "  <tbody>\n",
       "    <tr>\n",
       "      <th>0</th>\n",
       "      <td>1</td>\n",
       "      <td>○천안시 공모사업 관리에 관한 조례안</td>\n",
       "    </tr>\n",
       "    <tr>\n",
       "      <th>1</th>\n",
       "      <td>1</td>\n",
       "      <td>○천안시 노동자 권리보호 및 복리증진에 관한 조례안</td>\n",
       "    </tr>\n",
       "    <tr>\n",
       "      <th>2</th>\n",
       "      <td>1</td>\n",
       "      <td>○천안시 비정규직 권리보호 및 지원에 관한 조례안</td>\n",
       "    </tr>\n",
       "    <tr>\n",
       "      <th>3</th>\n",
       "      <td>2</td>\n",
       "      <td>○유니세프 아동친화도시 추진 지방정부협의회 운영 규약 개정 동의안</td>\n",
       "    </tr>\n",
       "    <tr>\n",
       "      <th>4</th>\n",
       "      <td>3</td>\n",
       "      <td>○천안시 대형유통기업 지역기여 권고 및 소상공인 보호 조례 일부개정조례안</td>\n",
       "    </tr>\n",
       "    <tr>\n",
       "      <th>5</th>\n",
       "      <td>3</td>\n",
       "      <td>○대한민국 축구종합센터 도시개발사업 구역지정 및 개발계획 수립을 위한 의견청취</td>\n",
       "    </tr>\n",
       "  </tbody>\n",
       "</table>\n",
       "</div>"
      ],
      "text/plain": [
       "   segment_number                                   agenda_title\n",
       "0               1                           ○천안시 공모사업 관리에 관한 조례안\n",
       "1               1                   ○천안시 노동자 권리보호 및 복리증진에 관한 조례안\n",
       "2               1                    ○천안시 비정규직 권리보호 및 지원에 관한 조례안\n",
       "3               2           ○유니세프 아동친화도시 추진 지방정부협의회 운영 규약 개정 동의안\n",
       "4               3       ○천안시 대형유통기업 지역기여 권고 및 소상공인 보호 조례 일부개정조례안\n",
       "5               3   ○대한민국 축구종합센터 도시개발사업 구역지정 및 개발계획 수립을 위한 의견청취 "
      ]
     },
     "execution_count": 15,
     "metadata": {},
     "output_type": "execute_result"
    }
   ],
   "source": [
    "test2"
   ]
  },
  {
   "cell_type": "code",
   "execution_count": 16,
   "metadata": {},
   "outputs": [],
   "source": [
    "test2.to_csv(\"test2.csv\")"
   ]
  }
 ],
 "metadata": {
  "kernelspec": {
   "display_name": "Python 3",
   "language": "python",
   "name": "python3"
  },
  "language_info": {
   "codemirror_mode": {
    "name": "ipython",
    "version": 3
   },
   "file_extension": ".py",
   "mimetype": "text/x-python",
   "name": "python",
   "nbconvert_exporter": "python",
   "pygments_lexer": "ipython3",
   "version": "3.7.3"
  }
 },
 "nbformat": 4,
 "nbformat_minor": 2
}
